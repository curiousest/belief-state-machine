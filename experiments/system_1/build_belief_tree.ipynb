{
 "cells": [
  {
   "cell_type": "markdown",
   "id": "11dac44b-eca3-4ad9-b31e-085096678b14",
   "metadata": {},
   "source": [
    "## Why build a belief tree?\n",
    "- Can use in any context - always-on, online text, etc.\n",
    "- Makes for far more interesting generative content, closer to how humans would make content.\n",
    "- Can build stories from the beliefs and changing their state.\n",
    "- Can establish humour from identifying delta between reality/perceived reality (in beliefs), or conflict between two beliefs.\n",
    "- Can say strange things that feel right/wrong, built on top of those beliefs.\n",
    "\n",
    "## Notable findings\n",
    "- Treating historical account of actual communications between people, then saying an author \"wrote it\", makes the LLM able to extract coherent beliefs.\n",
    "- Using actual behaviour as context, instead of derived content gets real beliefs. (what they do and decide instead of what they say they do or prefer). This is why stated beliefs are not as meaningful/useful - "
   ]
  },
  {
   "cell_type": "code",
   "execution_count": 1,
   "id": "dd538689-2ff5-49c7-86b0-bf88ff2eb695",
   "metadata": {},
   "outputs": [],
   "source": [
    "import os\n",
    "from openai import OpenAI\n",
    "\n",
    "PROJECT_ID = \"proj_hUizl3mrZGSfmp4C6DI60dJo\"\n",
    "client = OpenAI(\n",
    "    # This is the default and can be omitted\n",
    "    api_key=os.environ.get(\"OPENAI_API_KEY\"),\n",
    ")"
   ]
  },
  {
   "cell_type": "code",
   "execution_count": 40,
   "id": "726bbdcd-82b9-4556-a162-7eb5b6bcb558",
   "metadata": {},
   "outputs": [],
   "source": [
    "model = 'gpt-4o-mini'\n",
    "lowlevel_belief_extraction_system_prompt = \\\n",
    "\"\"\"\n",
    "You are an expert in psychology, philosophy, propaganda, and literary analysis. Your task is to extract and classify the beliefs expressed in the following text.\n",
    "\n",
    "Beliefs can fall into three categories:\n",
    "\n",
    "True: The belief is assumed or presented as a factual/justified claim.\n",
    "False: The belief is assumed to be untrue or framed as untrue/mistaken/debunked.\n",
    "Meaningless: The belief was once seen as true or false, but it has been transcended or rendered irrelevant.\n",
    "For each belief you identify, provide:\n",
    "\n",
    "The belief statement: What belief is being expressed?\n",
    "Category: Is the belief true, false, or meaningless (and why)?\n",
    "Reasoning: What reasoning (if any) supports or challenges this belief in the text?\n",
    "Example 1:\n",
    "\n",
    "Text: It took a long time to go the whole way around the world.\n",
    "\n",
    "Belief: \"The Earth is round.\"\n",
    "Category: True\n",
    "Reasoning: This belief relevant as a shared belief, necessary for the text to have meaning, and is implicit in the text.\n",
    "\n",
    "Example 2:\n",
    "\n",
    "Text: We're in a simulation, and since Earth is simply a projection within it, we should be able to travel from one city to another instantly. \n",
    "\n",
    "Belief: \"The Earth is round.\"\n",
    "Category: Meaningless\n",
    "Reasoning: This belief is commonly held and contentious, and makes the text more profound.\n",
    "\n",
    "Bad example 1 (don't do this):\n",
    "\n",
    "Text: The Earth is flat, so you couldn't have gone the whole way around.\n",
    "\n",
    "Belief: \"The Earth is round.\"\n",
    "Category: False\n",
    "Reasoning: This belief explicit, and therefore not what you're looking for.\n",
    "\"\"\"\n",
    "highlevel_belief_extraction_system_prompt = \\\n",
    "\"\"\"\n",
    "You are an expert in psychology, philosophy, propaganda, and literary analysis. Your task is to extract the beliefs expressed 'between the lines' in the following text.\n",
    "\n",
    "The belief statement: What belief is being expressed 'between the lines'?\n",
    "Reasoning: Why is this belief important to the author of the text?\n",
    "\"\"\"\n",
    "first_layer_extraction_prompt = \"Extract the implicit beliefs in the following text and number them:\"\n",
    "next_layer_extraction_prompt = \"The following text is a list of beliefs. Extract the beliefs that these beliefs depend upon and for each extracted belief, list the id numbers of the beliefs that depend upon it.\"\n"
   ]
  },
  {
   "cell_type": "code",
   "execution_count": 44,
   "id": "1289ce55-c9c0-47bd-a2f1-62d5cc6491c2",
   "metadata": {},
   "outputs": [],
   "source": [
    "def extract_beliefs_request(text: str, text_context: str = None, layer:int=1, level: str = 'lowlevel'):\n",
    "    messages = []\n",
    "    if level == 'lowlevel':\n",
    "        messages.append({\n",
    "            \"role\": \"system\",\n",
    "            \"content\": lowlevel_belief_extraction_system_prompt\n",
    "        })\n",
    "    else:\n",
    "        messages.append({\n",
    "            \"role\": \"system\",\n",
    "            \"content\": highlevel_belief_extraction_system_prompt\n",
    "        })\n",
    "    if text_context:\n",
    "        messages.append({\n",
    "            \"role\": \"user\",\n",
    "            \"content\": \"Here is the context of the text: \" + text_context\n",
    "        })\n",
    "    messages += [\n",
    "        {\n",
    "            \"role\": \"user\",\n",
    "            \"content\": first_layer_extraction_prompt if layer==1 else next_layer_extraction_prompt\n",
    "        },\n",
    "        {\n",
    "            \"role\": \"user\",\n",
    "            \"content\": text\n",
    "    }]\n",
    "    response = client.chat.completions.create(model=model, messages=messages)\n",
    "    return response.to_dict()['choices'][0]['message']['content']"
   ]
  },
  {
   "cell_type": "code",
   "execution_count": 48,
   "id": "daba4469-8841-4a75-99e8-2edbf174be4e",
   "metadata": {},
   "outputs": [
    {
     "name": "stderr",
     "output_type": "stream",
     "text": [
      "Ignoring wrong pointing object 25 0 (offset 0)\n",
      "Ignoring wrong pointing object 29 0 (offset 0)\n"
     ]
    },
    {
     "name": "stdout",
     "output_type": "stream",
     "text": [
      "9\n",
      "8029\n",
      "iMessageWed, Oct 2 at 08:29Hey, this is Douglas Hindson. I’m going to be in San Francisco for 2wks from the 13th Oct. I’d enjoy hanging out while I’m there. I’m staying with one of my university friends in the city.Wed, Oct 2 at 11:02Hello Douglas Hindson. Are you going to be in South Bay at all? If not, I can come up to SF whenever since it’s not too far.Ha, yes, excessively formal. I’ve never seen my full name in casual conversation before, feels bot-like. I don’t know the lay of the land, is that a region in LA or a region of san fran?Wed, Oct 2 at 17:34Haha yeah I don’t think I’ve ever heard someone call you Douglas. South Bay is closer to San Jose area. I live/work in Mountain View, but go up to SF fairly regularly since its pretty close and that’s usually where events are Wed, Oct 2 at 19:40I changed to Douglas when I left Canada, only Canadian people call me Doug, and you’re now nominally American.Ok cool, I have some plans, but lots of flexibility, so if there’s cool things to do there, I’m interested. If there’s better things in san Fran, that’s cool. I’ll tell you more specifics of availability/plans tomorrow.Thu, Oct 3 at 11:29Ok cool. As an American, I’ll try to refer to you as Douglas. Do I have to say it with a British accent? There isn’t a ton of interesting stuff to do in in Mountain View. If there are any California based activities that you’re interested in, we could also do that. Example surfing, mountain biking, parks or areas that you want to visit Thu, Oct 3 at 13:21Tolerable British accents aren’t accessible to some people, especially Americans. I don’t want to strain your tongue or my ears, so just make sure to say the word with respect.WIP calendar, still pretty flexible:Arrive Sunday 13thMondayBike around san fran?Drop-in https://www.crossfitalinea.com/visiting-athletes TuesdayOakland? Meet Ivan/Rachel/james?WednesdayGo to yosemite?ThursdayReturn from yosemite?- drop-in: https://www.fogcitycf.com/membership Friday 18thevening : leon bridgesSaturday / Sunday (meet ivan/rachel/james?)MondayOakland?Tuesday“North of city” things?WednesdayThursday FridayEvening: Toro Y moi?SaturdaySunday 27th Fly out (departs 1:30pm)I’d be super interested in mountain biking. I’m also planning on Yosemite mid-week if you’re interested, but might not be compatible with work.Fri, Oct 4 at 11:06I can’t do mid-week trips, and it’s looking like I won’t be in the area Oct 11-14, but am free the other 2 weekends that you’re here.Have you mountain biked before? I’m kind of bad but there’s a massive range of different trail difficulties around here with tons of rental shops. If your friends are also interested, we can plan accordinglySun, Oct 6 at 12:31Sorry for slow reply, I’m just getting ready to leave Ottawa and head to Toronto for the week before san Fran!I have, but I’m also not amazing. I bike in cities and not mountains. I have done like 3 “intermediate difficult” mountain biking routes before but I wouldn’t really do jumps with gaps. Rough te\n",
      "ly could’ve kept going for more loops I also pretty much died afterwards even off of the single loop\n"
     ]
    }
   ],
   "source": [
    "from pypdf import PdfReader\n",
    "\n",
    "# creating a pdf reader object\n",
    "reader = PdfReader('/Users/douglashindson/Documents/James White.pdf')\n",
    "\n",
    "# printing number of pages in pdf file\n",
    "print(len(reader.pages))\n",
    "\n",
    "# creating a page object\n",
    "page = reader.pages[0]\n",
    "\n",
    "# extracting text from page\n",
    "text = page.extract_text()\n",
    "print(len(text))\n",
    "print(text[:3000])\n",
    "print(text[-100:])"
   ]
  },
  {
   "cell_type": "code",
   "execution_count": 32,
   "id": "25cc13fd-1291-4840-bef6-29d90e09349c",
   "metadata": {},
   "outputs": [],
   "source": [
    "result = extract_beliefs_request(text, text_context = \"This is a conversation between two friends.\")\n",
    "result"
   ]
  },
  {
   "cell_type": "code",
   "execution_count": 45,
   "id": "dbadd70d-b35a-4697-a4aa-72830ce31e0a",
   "metadata": {},
   "outputs": [
    {
     "name": "stdout",
     "output_type": "stream",
     "text": [
      "('1. **Implicit Belief**: The author values flexibility and spontaneity in '\n",
      " 'social planning.\\n'\n",
      " '   - **Reasoning**: This belief is reflected in the back-and-forth '\n",
      " 'discussions about available days and activities, emphasizing a willingness '\n",
      " 'to adjust plans based on mutual interests and opportunities. It highlights '\n",
      " 'the importance of adaptability in maintaining friendships and enjoying '\n",
      " 'experiences together.\\n'\n",
      " '\\n'\n",
      " '2. **Implicit Belief**: The author appreciates casual, informal '\n",
      " 'communication over excessive formality.\\n'\n",
      " '   - **Reasoning**: The initial reaction to the use of the full name '\n",
      " '\"Douglas\" underscores a preference for a relaxed and friendly tone in '\n",
      " 'conversation. This suggests that they find value in authenticity and a sense '\n",
      " 'of ease in interactions, which can strengthen personal connections.\\n'\n",
      " '\\n'\n",
      " '3. **Implicit Belief**: The author believes in the importance of shared '\n",
      " 'experiences for building camaraderie.\\n'\n",
      " '   - **Reasoning**: The emphasis on activities like mountain biking and '\n",
      " 'spending time with friends indicates a belief that doing things together '\n",
      " 'fosters deeper relationships. It shows that shared adventures can create '\n",
      " 'lasting memories and strengthen bonds between individuals.\\n'\n",
      " '\\n'\n",
      " '4. **Implicit Belief**: The author recognizes the value of local knowledge '\n",
      " 'and expertise in planning activities.\\n'\n",
      " '   - **Reasoning**: The conversations surrounding recommendations for bike '\n",
      " 'trails and rental locations reflect an understanding that local insights can '\n",
      " 'enhance experiences. This demonstrates an appreciation for community and the '\n",
      " 'wisdom found in shared knowledge among friends.\\n'\n",
      " '\\n'\n",
      " '5. **Implicit Belief**: The author values a sense of achievement and '\n",
      " 'physical challenges in leisure activities.\\n'\n",
      " '   - **Reasoning**: References to mountain biking difficulties and physical '\n",
      " 'exhaustion convey a belief that engaging in challenging activities is '\n",
      " 'rewarding. It suggests a mindset that prizes personal growth and the joy '\n",
      " \"that comes from pushing one's limits, even in recreational pursuits.\\n\"\n",
      " '\\n'\n",
      " '6. **Implicit Belief**: The author feels a sense of gratitude and '\n",
      " 'appreciation towards friends and shared experiences.\\n'\n",
      " '   - **Reasoning**: The closing messages expressing thanks for the enjoyable '\n",
      " 'day underscore a belief in the significance of gratitude in friendships. '\n",
      " \"This emphasizes the idea that acknowledging others' efforts contributes \"\n",
      " 'positively to interpersonal relationships.')\n"
     ]
    }
   ],
   "source": [
    "result = extract_beliefs_request(text, text_context = \"This is a conversation between two friends.\", level='highlevel')\n",
    "from pprint import pprint\n",
    "pprint(result)"
   ]
  },
  {
   "cell_type": "code",
   "execution_count": null,
   "id": "cb15f196-80eb-4df9-8a8f-aa8c94916310",
   "metadata": {},
   "outputs": [],
   "source": []
  }
 ],
 "metadata": {
  "kernelspec": {
   "display_name": "Python 3 (ipykernel)",
   "language": "python",
   "name": "python3"
  },
  "language_info": {
   "codemirror_mode": {
    "name": "ipython",
    "version": 3
   },
   "file_extension": ".py",
   "mimetype": "text/x-python",
   "name": "python",
   "nbconvert_exporter": "python",
   "pygments_lexer": "ipython3",
   "version": "3.12.1"
  }
 },
 "nbformat": 4,
 "nbformat_minor": 5
}
